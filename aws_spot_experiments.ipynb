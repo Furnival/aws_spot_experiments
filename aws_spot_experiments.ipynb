{
 "cells": [
  {
   "cell_type": "markdown",
   "metadata": {},
   "source": [
    "# chalice, lambda and spot\n",
    "\n",
    "## notes\n",
    "\n",
    "1. detect when spot causes shutdown and do spot in another zone with another instance type?\n",
    "2. detect when spot causes shutdown and do on-demand for a few hours?\n",
    "3. enable hibernate and just ignore it? Come back to it? no redhat support.\n",
    "4. do spot fleet?\n",
    "\n",
    "------\n",
    "- certain instance types are more volatile i.e. large graphics types (for mining)\n",
    "\n",
    "-------"
   ]
  },
  {
   "cell_type": "code",
   "execution_count": 13,
   "metadata": {},
   "outputs": [
    {
     "name": "stdout",
     "output_type": "stream",
     "text": [
      "Already up to date.\n",
      "[master b19691d] added spot notes\n",
      " 1 file changed, 20 insertions(+), 11 deletions(-)\n"
     ]
    },
    {
     "name": "stderr",
     "output_type": "stream",
     "text": [
      "To bitbucket.org:teacherscollege/ec2-autostart-stop.git\n",
      "   54720f1..b19691d  master -> master\n"
     ]
    }
   ],
   "source": [
    "%%bash\n",
    "git pull\n",
    "git add *\n",
    "git commit -m \"started spot notes \" -a\n",
    "git push"
   ]
  },
  {
   "cell_type": "code",
   "execution_count": null,
   "metadata": {},
   "outputs": [],
   "source": [
    "%%writefile README.md\n",
    "# aws_spot_experiments\n",
    "experiments with lambda, chalice and spot market\n",
    "\n"
   ]
  },
  {
   "cell_type": "markdown",
   "metadata": {},
   "source": [
    "recent stackoverflow questions: \n",
    "- https://stackoverflow.com/questions/tagged/chalice\n",
    "- https://stackoverflow.com/search?q=ec2+spot\n",
    "\n",
    "\n",
    "http://blog.conygre.com/2016/11/18/starting-and-stopping-ec2-instances-using-a-lambda-and-cut-your-aws-bill-in-half/\n",
    "\n",
    "`[x] -` 1. setup chalice project(s?)    \n",
    "`      chalice new-project ec2_spot && cd ec2_spot`       \n",
    "`[x] -` 2. configure for ec2 iam access (policy.json gets overwritten?)  \n",
    "`      vim .chalice/policy.json`     \n",
    "`[x] -` 3. configure chalice for scheduled trigger (below)    \n",
    "`[x] -` 4. need to use s3 for logs?   \n",
    "`[x] -` overwrite app.py with ec2_spot.py   \n",
    "`[x] - ` how to do `chalice local` -->  http://127.0.0.1:8000       \n",
    "`[x] -` 5. `chalice deploy` or `chalice deploy --no-autogen-policy` then `chalice delete`      \n",
    "\n"
   ]
  },
  {
   "cell_type": "markdown",
   "metadata": {},
   "source": [
    "# aws-cli\n",
    "- https://docs.aws.amazon.com/cli/latest/reference/ec2/describe-spot-price-history.html\n",
    "\n",
    "*notes*   \n",
    "```\n",
    "--start-time (timestamp)\n",
    "\n",
    "The date and time, up to the past 90 days, from which to start retrieving the price history data, \n",
    "in UTC format (for example, YYYY -MM -DD T*HH* :MM :SS Z).\n",
    "```"
   ]
  },
  {
   "cell_type": "code",
   "execution_count": 13,
   "metadata": {},
   "outputs": [
    {
     "name": "stdout",
     "output_type": "stream",
     "text": [
      "[\n",
      "    {\n",
      "        \"az\": \"us-east-1b\",\n",
      "        \"price\": \"0.072900\"\n",
      "    },\n",
      "    {\n",
      "        \"az\": \"us-east-1c\",\n",
      "        \"price\": \"0.071900\"\n",
      "    },\n",
      "    {\n",
      "        \"az\": \"us-east-1d\",\n",
      "        \"price\": \"0.075800\"\n",
      "    },\n",
      "    {\n",
      "        \"az\": \"us-east-1f\",\n",
      "        \"price\": \"0.068500\"\n",
      "    },\n",
      "    {\n",
      "        \"az\": \"us-east-1a\",\n",
      "        \"price\": \"0.073000\"\n",
      "    }\n",
      "]\n"
     ]
    }
   ],
   "source": [
    "# c4.large c5-xlarge aws-cli\n",
    "\n",
    "! aws ec2 describe-spot-price-history --start-time=$(date +%s) --product-descriptions=\"Linux/UNIX\" --query 'SpotPriceHistory[*].{az:AvailabilityZone, price:SpotPrice}' --instance-types 'c5.xlarge'  \n",
    "#! aws ec2 describe-spot-price-history --start-time=$(date +%s) --product-descriptions=\"Linux/UNIX\" --query 'SpotPriceHistory[*].{az:AvailabilityZone, price:SpotPrice}' --instance-types \"c4.large\""
   ]
  },
  {
   "cell_type": "code",
   "execution_count": 7,
   "metadata": {},
   "outputs": [
    {
     "name": "stdout",
     "output_type": "stream",
     "text": [
      "1551976588\n"
     ]
    }
   ],
   "source": [
    "# %s\tSeconds since 1970-01-01 00:00:00 UTC.\n",
    "! echo $(date +%s)\n"
   ]
  },
  {
   "cell_type": "code",
   "execution_count": null,
   "metadata": {},
   "outputs": [],
   "source": []
  }
 ],
 "metadata": {
  "kernelspec": {
   "display_name": "Python 3",
   "language": "python",
   "name": "python3"
  },
  "language_info": {
   "codemirror_mode": {
    "name": "ipython",
    "version": 3
   },
   "file_extension": ".py",
   "mimetype": "text/x-python",
   "name": "python",
   "nbconvert_exporter": "python",
   "pygments_lexer": "ipython3",
   "version": "3.6.8"
  }
 },
 "nbformat": 4,
 "nbformat_minor": 2
}
